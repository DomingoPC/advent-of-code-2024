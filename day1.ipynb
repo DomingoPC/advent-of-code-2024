{
 "cells": [
  {
   "cell_type": "markdown",
   "metadata": {},
   "source": [
    "## Part 1: distance between 2 ID lists\n",
    "Pair up the smallest number in the left list with the smallest number in the right list, then the second-smallest left number with the second-smallest right number, and so on.\n",
    "\n"
   ]
  },
  {
   "cell_type": "code",
   "execution_count": 10,
   "metadata": {},
   "outputs": [
    {
     "name": "stdout",
     "output_type": "stream",
     "text": [
      "Shape = (1000, 2) \n",
      "\n",
      "       0      1\n",
      "0  28186  35627\n",
      "1  51854  34597\n",
      "2  19211  51032\n",
      "3  79370  53096\n",
      "4  68126  40302\n"
     ]
    }
   ],
   "source": [
    "import pandas as pd\n",
    "import numpy as np\n",
    "\n",
    "# Load txt into pandas dataframe (nrows, 2)\n",
    "data = pd.read_csv(\"inputs/day1.txt\", header=None, delim_whitespace=True)\n",
    "\n",
    "print(\"Shape =\", data.shape, \"\\n\")\n",
    "print(data.head())"
   ]
  },
  {
   "cell_type": "code",
   "execution_count": 12,
   "metadata": {},
   "outputs": [
    {
     "data": {
      "text/plain": [
       "1603498"
      ]
     },
     "execution_count": 12,
     "metadata": {},
     "output_type": "execute_result"
    }
   ],
   "source": [
    "# Sort both columns separatedly\n",
    "col0 = data.iloc[:, 0].sort_values(ignore_index=True)\n",
    "col1 = data.iloc[:, 1].sort_values(ignore_index=True)\n",
    "\n",
    "# Calculate distance\n",
    "np.abs(col0 - col1).sum()"
   ]
  },
  {
   "cell_type": "markdown",
   "metadata": {},
   "source": [
    "## Part 2: similarity score\n",
    "Calculate a total similarity score by adding up each number in the left list after multiplying it by the number of times that number appears in the right list."
   ]
  },
  {
   "cell_type": "code",
   "execution_count": null,
   "metadata": {},
   "outputs": [
    {
     "data": {
      "text/plain": [
       "25574739"
      ]
     },
     "execution_count": 26,
     "metadata": {},
     "output_type": "execute_result"
    }
   ],
   "source": [
    "repetitions = dict()\n",
    "score = 0\n",
    "\n",
    "for number in col0:\n",
    "    if number in repetitions.keys():\n",
    "        # Already calculated repetitions, only add to score\n",
    "        score += number * repetitions[number]\n",
    "    else:\n",
    "        # Calculate repetitions and add to score\n",
    "        rep = np.sum(number == col1)\n",
    "        repetitions[number] = rep\n",
    "        score += number * rep\n",
    "\n",
    "score"
   ]
  }
 ],
 "metadata": {
  "kernelspec": {
   "display_name": "base",
   "language": "python",
   "name": "python3"
  },
  "language_info": {
   "codemirror_mode": {
    "name": "ipython",
    "version": 3
   },
   "file_extension": ".py",
   "mimetype": "text/x-python",
   "name": "python",
   "nbconvert_exporter": "python",
   "pygments_lexer": "ipython3",
   "version": "3.11.10"
  }
 },
 "nbformat": 4,
 "nbformat_minor": 2
}
