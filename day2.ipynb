{
 "cells": [
  {
   "cell_type": "markdown",
   "metadata": {},
   "source": [
    "## Part 1: \n",
    "The unusual data (your puzzle input) consists of many reports, one report per line. Each report is a list of numbers called levels that are separated by spaces. For example:\n",
    "\n",
    "$$\n",
    "\\begin{matrix}\n",
    "7 & 6 & 4 & 2 & 1\\\\\n",
    "1 & 2 & 7 & 8 & 9\\\\\n",
    "9 & 7 & 6 & 2 & 1\\\\\n",
    "1 & 3 & 2 & 4 & 5 \\\\\n",
    "8 & 6 & 4 & 4 & 1 \\\\\n",
    "1 & 3 & 6 & 7 & 9 \\\\\n",
    "\\end{matrix}\n",
    "$$\n",
    "\n",
    "This example data contains six reports each containing five levels.\n",
    "\n",
    "The engineers are trying to figure out which reports are safe. The Red-Nosed reactor safety systems can only tolerate levels that are either gradually increasing or gradually decreasing. So, a report only counts as safe if both of the following are true:\n",
    "\n",
    "- The levels are either all increasing or all decreasing.\n",
    "- Any two adjacent levels differ by at least one and at most three.\n"
   ]
  },
  {
   "cell_type": "code",
   "execution_count": 70,
   "metadata": {},
   "outputs": [
    {
     "data": {
      "text/plain": [
       "631"
      ]
     },
     "execution_count": 70,
     "metadata": {},
     "output_type": "execute_result"
    }
   ],
   "source": [
    "def check_line(line):\n",
    "    length = len(line)\n",
    "    previous_diff = 0\n",
    "\n",
    "    for idx in range(length):\n",
    "        # End of the list and still no problems\n",
    "        if idx+1 == length: # length is always +1 than last index\n",
    "            return 1 # Safe report\n",
    "\n",
    "        # Calculate difference\n",
    "        difference = line[idx+1] - line[idx]\n",
    "\n",
    "        # Check if it keeps increasing/decreasing\n",
    "        if previous_diff != 0: # Should never be zero, otherwise it was unsafe on previous step\n",
    "            # Not the same sign\n",
    "            if difference * previous_diff < 0:\n",
    "                return 0 # Unsafe report\n",
    "\n",
    "        previous_diff = difference\n",
    "\n",
    "        # Check if difference is inbounds\n",
    "        if (abs(difference) < 1) or (abs(difference) > 3):\n",
    "            return 0 # Unsafe report\n",
    "\n",
    "\n",
    "\n",
    "with open(\"inputs/day2.txt\", \"r\") as f:\n",
    "    output = [] # 1 = safe, 0 = unsafe\n",
    "\n",
    "    for line in f:\n",
    "        line = line[:-1] # remove \\n at the end\n",
    "        line = [int(n) for n in line.split(\" \")] # turn into int\n",
    "        output.append( check_line(line) )\n",
    "        \n",
    "output_sum = sum(output)\n",
    "output_sum"
   ]
  },
  {
   "cell_type": "markdown",
   "metadata": {},
   "source": [
    "## Part 2: \n",
    "The Problem Dampener is a reactor-mounted module that lets the reactor safety systems tolerate a single bad level in what would otherwise be a safe report. It's like the bad level never happened!\n",
    "\n",
    "Now, the same rules apply as before, except if removing a single level from an unsafe report would make it safe, the report instead counts as safe.\n",
    "\n"
   ]
  },
  {
   "cell_type": "code",
   "execution_count": 88,
   "metadata": {},
   "outputs": [
    {
     "data": {
      "text/plain": [
       "665"
      ]
     },
     "execution_count": 88,
     "metadata": {},
     "output_type": "execute_result"
    }
   ],
   "source": [
    "def check_line_with_dampener(line, mistakes=0, current_output=1):\n",
    "    length = len(line)\n",
    "    if check_line(line) == 0:\n",
    "        # Use dampener\n",
    "        for idx in range(length):\n",
    "            newline = line[:idx]\n",
    "            newline.extend(line[idx+1:])\n",
    "            \n",
    "            if check_line(newline) == 1:\n",
    "                return 1\n",
    "        else:\n",
    "            return 0\n",
    "    else:\n",
    "        return 1\n",
    "\n",
    "with open(\"inputs/day2.txt\", \"r\") as f:\n",
    "    output = [] # 1 = safe, 0 = unsafe\n",
    "\n",
    "    for line in f:\n",
    "        line = line[:-1] # remove \\n at the end\n",
    "        line = [int(n) for n in line.split(\" \")] # turn into int\n",
    "        output.append( check_line_with_dampener(line) )\n",
    "        \n",
    "output_sum = sum(output)\n",
    "output_sum"
   ]
  }
 ],
 "metadata": {
  "kernelspec": {
   "display_name": "base",
   "language": "python",
   "name": "python3"
  },
  "language_info": {
   "codemirror_mode": {
    "name": "ipython",
    "version": 3
   },
   "file_extension": ".py",
   "mimetype": "text/x-python",
   "name": "python",
   "nbconvert_exporter": "python",
   "pygments_lexer": "ipython3",
   "version": "3.11.10"
  }
 },
 "nbformat": 4,
 "nbformat_minor": 2
}
