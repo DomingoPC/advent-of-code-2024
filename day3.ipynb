{
 "cells": [
  {
   "cell_type": "markdown",
   "metadata": {},
   "source": [
    "## Part 1: \n",
    "Scan the corrupted memory for uncorrupted mul instructions. What do you get if you add up all of the results of the multiplications?"
   ]
  },
  {
   "cell_type": "code",
   "execution_count": 229,
   "metadata": {},
   "outputs": [
    {
     "data": {
      "text/html": [
       "<div>\n",
       "<style scoped>\n",
       "    .dataframe tbody tr th:only-of-type {\n",
       "        vertical-align: middle;\n",
       "    }\n",
       "\n",
       "    .dataframe tbody tr th {\n",
       "        vertical-align: top;\n",
       "    }\n",
       "\n",
       "    .dataframe thead th {\n",
       "        text-align: right;\n",
       "    }\n",
       "</style>\n",
       "<table border=\"1\" class=\"dataframe\">\n",
       "  <thead>\n",
       "    <tr style=\"text-align: right;\">\n",
       "      <th></th>\n",
       "      <th>line</th>\n",
       "    </tr>\n",
       "  </thead>\n",
       "  <tbody>\n",
       "    <tr>\n",
       "      <th>0</th>\n",
       "      <td>'*when(932,461)!:who()(*mul(662,950)mul(878,53...</td>\n",
       "    </tr>\n",
       "    <tr>\n",
       "      <th>1</th>\n",
       "      <td>$when()*+:@{[who()do():#when(755,316)select()&lt;...</td>\n",
       "    </tr>\n",
       "    <tr>\n",
       "      <th>2</th>\n",
       "      <td>from()*/)where()*@&gt;mul(425,149)[/:,(,;:{#mul(4...</td>\n",
       "    </tr>\n",
       "    <tr>\n",
       "      <th>3</th>\n",
       "      <td>![/mul(665,722)mul(44,793)from() $when()[/from...</td>\n",
       "    </tr>\n",
       "    <tr>\n",
       "      <th>4</th>\n",
       "      <td>when()@select()where() ([mul(747,2)~ do()]'[wh...</td>\n",
       "    </tr>\n",
       "    <tr>\n",
       "      <th>5</th>\n",
       "      <td>%who()^why() mul(410,625)from();what(){[+who(6...</td>\n",
       "    </tr>\n",
       "  </tbody>\n",
       "</table>\n",
       "</div>"
      ],
      "text/plain": [
       "                                                line\n",
       "0  '*when(932,461)!:who()(*mul(662,950)mul(878,53...\n",
       "1  $when()*+:@{[who()do():#when(755,316)select()<...\n",
       "2  from()*/)where()*@>mul(425,149)[/:,(,;:{#mul(4...\n",
       "3  ![/mul(665,722)mul(44,793)from() $when()[/from...\n",
       "4  when()@select()where() ([mul(747,2)~ do()]'[wh...\n",
       "5  %who()^why() mul(410,625)from();what(){[+who(6..."
      ]
     },
     "metadata": {},
     "output_type": "display_data"
    }
   ],
   "source": [
    "import pandas as pd\n",
    "import re\n",
    "\n",
    "# Create pandas dataframe from random assortment of text\n",
    "# This way there's no problem with choosing a separator (with pd.read_csv)\n",
    "with open(\"inputs/day3.txt\") as f:\n",
    "    mydata = [line for line in f]\n",
    "    df = pd.DataFrame(mydata, columns=['line'])\n",
    "display(df)"
   ]
  },
  {
   "cell_type": "code",
   "execution_count": 230,
   "metadata": {},
   "outputs": [
    {
     "name": "stdout",
     "output_type": "stream",
     "text": [
      "'*when(932,461)!:who()(*mul(662,950)mul(878,53){#+{&%}mul(675,225)^how(648,963)&)#how(924,189)[mul(14,114)!mul(528,270)]#from()mul(866,868) what())mul(253,100); )when()@{mul(827,104))% -,'mul(955,284)/'-(([!from(177,673)<mul(399,798)*{;mul(339,362)!when():: @,-#don't()$;(! )from()%mul(78,207):&from()}^when()mul(51,209)@&who(){(~}mul(570,607){/,-select()(when()mul(808,231)[*~<&;,%mul(503,986)&*@${+mul(826,344)%?'!mul(511,427)${&+%mul(961,419)don't()!where()+mul(771,396)^,$@mul(831,173)mul(929,874)how()]mul(244,480)*!mul(30,541)^]/@who()%why()where()select()mul(490,87)'^@:mul(981,513)~-select()?#@mul(465,651)/mul(341,750)}&;!&,[mul(638,946)@;!,from():mul(349,565)/mul(495,530)&{)who()/!-~#-mul(82,865)$mul(120,92)~(mul(765,981)mul(43,881)**from(557,138)[-:{{mul(280,726)mul(719,15)!mul(716,45)%?($]<%mul(995,514)#-'mul(770,591)&([when(340,34)mul(48,191)why()%)^}who()>*mul(343,826)@}where()mul(211,118)select()why()%who()()do()'where()'+[!--<where()mul(323,818)what()what()*(><:mul(734,544)@when()who(239,383)+!,^~mul(362,147))mul(448,470)}where(916,77);select()/mul(885,970)what()(mul(926,912)when(),,-;?'from()@mul(166,868):from()mul(481,818)[how()who()~!,when()why();mul(2,227)<when(312,998)#/@who(978,537)))mul(296,229)+@;# mul(269,866)when(){<#select()$where()[@mul(601,99)#()//)*>do()![-[ where() ;mul(352,331)-[:mul(724,613)&-~@mul(133,235);when(849,671))where()?~where()@%mul(504,704)why()]<&mul(150,546)^:why();where(793,121)~!')[mul(345,200))[%select()why()^:%where()mul(112,504)'(from(194,838) when()]'why(231,15))$mul(480,487)where(335,714)$(;@{mul(542,838)-(mul(111,392))select()>when()mul(416,295)select()why(){from()<:mul(190,460)$(?how()when()mul(597,500)mul(714,782);?%>!mul(303,578)from(481,153)*&;,mul(373,860)~who()how(){mul(871,673)#@why():/[who():}don't()$<+<?@mul(692,459):<^how()[[*how()mul(906,486)~!where()<?how()<?don't()?'how():'mul(192,522)mul(707,885)who()]what()?who()~;$mul(366,408)<[ ??when()&[-mul(223,308)}*/mul(32,308)#()/mul(55,242)':where()when(){!;*{mulfrom()+$[>#-(how()%-do()!when()!when()from(342,582)@mul(877,442)from()mul(874,842);[?how()when()who()from()?(mul(415,601)#+/]:mul(132,522)#where(222,639)]from()&[how()~mul(278,563)?,~-?,(why()>mul(740,126)]select()';>]*,where(),mul(853,590)where()'~+mul(284,920)from()/+};-+[?^mul(656,345)]why()mul(185,132)-mul(770,693)~[what()<@-from()mul(200,187)mul(624,299)}mul(811,930)}+$]${&#?mul(805,62){;?when()/,:what()('mul(602,308)#}&^select()<@@how()why()mul(572,706)mul(327,202){'^*who()@mul(965,541)why()?/{[&when()mul(298,736):@}} mul(667,224)why()(- $#mul(641,534)'^mul(981,964)?;}don't()from(208,511)]})from(823,301)why()select()mul(462,251)select(){from()<mul(985,619){who()-select()'~select()-?mul(599,184)select();~why()?-?^/mul(329,480*from()+-/ mul(956,136)^:#(where()+mul(531,941)*!{mul(67,457)+)#^where(330,832)@mul(853,759))/}where()mul(572,909)@'->why()$how()'}}mul(83,963)how()$}+~:!,)mul(317,238)*'{ do()mul(408,63)-,*where()who()*@mul(761,933)who()who()&]^mul(757,153) mul(761,877):@#*^where(790,345)$why()mul(464,363)mul(546,662)from()do()-when())'^mul(133,153)\n",
      "\n"
     ]
    }
   ],
   "source": [
    "print(df.iloc[0,0])"
   ]
  },
  {
   "cell_type": "code",
   "execution_count": 231,
   "metadata": {},
   "outputs": [
    {
     "data": {
      "text/plain": [
       "0    [mul(662,950), mul(878,53), mul(675,225), mul(...\n",
       "1    [mul(228,645), mul(379,971), mul(333,963), mul...\n",
       "2    [mul(425,149), mul(442,406), mul(359,89), mul(...\n",
       "3    [mul(665,722), mul(44,793), mul(910,529), mul(...\n",
       "4    [mul(747,2), mul(944,820), mul(610,636), mul(5...\n",
       "5    [mul(410,625), mul(456,501), mul(566,94), mul(...\n",
       "Name: line, dtype: object"
      ]
     },
     "execution_count": 231,
     "metadata": {},
     "output_type": "execute_result"
    }
   ],
   "source": [
    "# Extract only valid multiplications (e.g. mul(2,3))\n",
    "multiplications = df[\"line\"].str.findall(pat=\"mul\\(\\d+,\\d+\\)\")\n",
    "multiplications"
   ]
  },
  {
   "cell_type": "code",
   "execution_count": 239,
   "metadata": {},
   "outputs": [
    {
     "data": {
      "text/plain": [
       "173419328"
      ]
     },
     "execution_count": 239,
     "metadata": {},
     "output_type": "execute_result"
    }
   ],
   "source": [
    "# Convert to list of pairs of numbers, then multiply\n",
    "output = 0\n",
    "for line in multiplications:\n",
    "    for mul in line:\n",
    "        pair = re.findall(\"\\d+\", string=mul)\n",
    "        output += int(pair[0]) * int(pair[1])\n",
    "output"
   ]
  },
  {
   "cell_type": "markdown",
   "metadata": {},
   "source": [
    "## Part 2:\n",
    "There are two new instructions you'll need to handle:\n",
    "\n",
    "- The do() instruction enables future mul instructions.\n",
    "- The don't() instruction disables future mul instructions.\n",
    "\n",
    "Only the most recent do() or don't() instruction applies. At the beginning of the program, mul instructions are enabled."
   ]
  },
  {
   "cell_type": "code",
   "execution_count": 242,
   "metadata": {},
   "outputs": [
    {
     "data": {
      "text/plain": [
       "90669332"
      ]
     },
     "execution_count": 242,
     "metadata": {},
     "output_type": "execute_result"
    }
   ],
   "source": [
    "with open(\"inputs/day3.txt\", \"r\") as f:\n",
    "    # Read all text in one line (so ignore \\n as data is corrupted)\n",
    "    text = f.read()\n",
    "\n",
    "cropped_text = re.findall(string=text, \n",
    "                          pattern=r\"mul\\(\\d+,\\d+\\)|do(?:n't)?\\(\\)\")\n",
    "\n",
    "valid = True\n",
    "output = 0\n",
    "for element in cropped_text:\n",
    "    if element == \"do()\":\n",
    "        valid = True\n",
    "    elif element == \"don't()\":\n",
    "        valid = False\n",
    "    elif valid:\n",
    "        numbers = re.findall(string=element, pattern=\"\\d+\")\n",
    "        output += int(numbers[0]) * int(numbers[1])\n",
    "\n",
    "output"
   ]
  }
 ],
 "metadata": {
  "kernelspec": {
   "display_name": "base",
   "language": "python",
   "name": "python3"
  },
  "language_info": {
   "codemirror_mode": {
    "name": "ipython",
    "version": 3
   },
   "file_extension": ".py",
   "mimetype": "text/x-python",
   "name": "python",
   "nbconvert_exporter": "python",
   "pygments_lexer": "ipython3",
   "version": "3.11.10"
  }
 },
 "nbformat": 4,
 "nbformat_minor": 2
}
